{
 "cells": [
  {
   "cell_type": "code",
   "execution_count": 1,
   "id": "312cb209-f0b5-4d2a-bb29-2950de31ea8c",
   "metadata": {},
   "outputs": [],
   "source": [
    "test_data = \"\"\".....\n",
    ".S-7.\n",
    ".|.|.\n",
    ".L-J.\n",
    ".....\"\"\""
   ]
  },
  {
   "cell_type": "code",
   "execution_count": 4,
   "id": "74224cf0-80d6-4f77-a316-9032eb982f4c",
   "metadata": {},
   "outputs": [],
   "source": [
    "def parse_data(input_data):\n",
    "    return [list(x) for x in input_data.split()]"
   ]
  },
  {
   "cell_type": "code",
   "execution_count": 13,
   "id": "db2a5337-291c-401b-93f3-717401cd54a3",
   "metadata": {},
   "outputs": [],
   "source": [
    "def find_start(matrix):\n",
    "    for row_idx, row in enumerate(matrix):\n",
    "        for col_idx, col in enumerate(row):\n",
    "            if col == \"S\":\n",
    "                return row_idx, col_idx\n",
    "            \n",
    "def find_first_move(matrix, start):\n",
    "    if start[0] > 0:\n",
    "        if matrix[start[0] - 1][start[1]] in \"|7F\": # UP\n",
    "            return start[0] - 1, start[1]\n",
    "    if start[1] > 0: \n",
    "        if matrix[start[0]][start[1] - 1] in \"-LF\": # LEFT\n",
    "            return start[0], start[1] - 1\n",
    "    if start[0] < len(matrix) - 1: \n",
    "         if matrix[start[0] + 1][start[1]] in \"|LJ\": # DOWN\n",
    "            return start[0] + 1, start[1]\n",
    "    if start[1] < len(matrix[0]) - 1: \n",
    "        if matrix[start[0]][start[1] - 1] in \"-7J\": # RIGHT\n",
    "            return start[0], start[1] + 1 \n",
    "    \n",
    "        \n",
    "def traverse(matrix, start, first_move):\n",
    "    shifts = {\"|\": [(1, -1), 0] is a vertical pipe connecting north and south.\n",
    "                \"-\": [0, (1, -1)] is a horizontal pipe connecting east and west.\n",
    "                \"L\": [] is a 90-degree bend connecting north and east.\n",
    "                \"J\": [] is a 90-degree bend connecting north and west.\n",
    "                \"7\": [] is a 90-degree bend connecting south and west.\n",
    "                \"F\": [] is a 90-degree bend connecting south and east.}\n",
    "    count = 0\n",
    "    curr_y = first_move[0]\n",
    "    curr_x = first_move[1]\n",
    "    \n",
    "    while matrix[curr_y][curr_x] != \"S\":\n",
    "        "
   ]
  },
  {
   "cell_type": "code",
   "execution_count": 6,
   "id": "520b504c-adf0-4ac1-b3ec-7ba5a1cf19de",
   "metadata": {},
   "outputs": [],
   "source": [
    "matrix = parse_data(test_data)"
   ]
  },
  {
   "cell_type": "code",
   "execution_count": 14,
   "id": "9436f452-8eac-4815-8e2f-f72da4961ce6",
   "metadata": {},
   "outputs": [
    {
     "data": {
      "text/plain": [
       "(2, 1)"
      ]
     },
     "execution_count": 14,
     "metadata": {},
     "output_type": "execute_result"
    }
   ],
   "source": [
    "start = find_start(matrix)\n",
    "first_move = find_first_move(matrix, start)\n",
    "first_move"
   ]
  },
  {
   "cell_type": "code",
   "execution_count": null,
   "id": "73c4cbe1-32e4-40ac-83ee-6a8897015a34",
   "metadata": {},
   "outputs": [],
   "source": []
  }
 ],
 "metadata": {
  "kernelspec": {
   "display_name": "Python 3 (ipykernel)",
   "language": "python",
   "name": "python3"
  },
  "language_info": {
   "codemirror_mode": {
    "name": "ipython",
    "version": 3
   },
   "file_extension": ".py",
   "mimetype": "text/x-python",
   "name": "python",
   "nbconvert_exporter": "python",
   "pygments_lexer": "ipython3",
   "version": "3.7.7"
  }
 },
 "nbformat": 4,
 "nbformat_minor": 5
}
