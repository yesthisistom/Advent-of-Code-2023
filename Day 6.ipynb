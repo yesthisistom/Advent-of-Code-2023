{
 "cells": [
  {
   "cell_type": "code",
   "execution_count": 1,
   "id": "999c44a0-7d2b-4922-827e-a88e840d3d8d",
   "metadata": {},
   "outputs": [],
   "source": [
    "test_data = \"\"\"Time:      7  15   30\n",
    "Distance:  9  40  200\"\"\""
   ]
  },
  {
   "cell_type": "code",
   "execution_count": 15,
   "id": "330d46bb-a0db-4316-897e-e94c1d2a6140",
   "metadata": {},
   "outputs": [],
   "source": [
    "full_data = \"\"\"Time:        59     70     78     78\n",
    "Distance:   430   1218   1213   1276\"\"\""
   ]
  },
  {
   "cell_type": "code",
   "execution_count": 16,
   "id": "3fd34f13-c87a-4a6c-b30b-bed81bd9eb9c",
   "metadata": {},
   "outputs": [],
   "source": [
    "def process_data(input_data):\n",
    "    input_data = input_data.split(\"\\n\")\n",
    "    times = [int(x) for x in input_data[0].split(\": \")[1].split(\" \") if len(x) > 0]\n",
    "    distance = [int(x) for x in input_data[1].split(\": \")[1].split(\" \") if len(x) > 0]\n",
    "    \n",
    "    return list(zip(times, distance))"
   ]
  },
  {
   "cell_type": "code",
   "execution_count": 17,
   "id": "f866c6f3-1f8c-47a0-8679-b7b19d8bc8a8",
   "metadata": {},
   "outputs": [],
   "source": [
    "races = process_data(full_data)"
   ]
  },
  {
   "cell_type": "code",
   "execution_count": 21,
   "id": "302da3cd-3dcd-4b14-aaa1-bb3be8217a2e",
   "metadata": {},
   "outputs": [],
   "source": [
    "def get_wins(time, distance):\n",
    "    wins = 0\n",
    "    \n",
    "    for speed in range(1, time):\n",
    "        if speed * (time - speed) > distance:\n",
    "            wins += 1\n",
    "    \n",
    "    return wins"
   ]
  },
  {
   "cell_type": "code",
   "execution_count": 24,
   "id": "a50ea2ed-8661-47d3-8ad8-19101766c65e",
   "metadata": {},
   "outputs": [],
   "source": [
    "win_list = [get_wins(time, distance) for time, distance in races]"
   ]
  },
  {
   "cell_type": "code",
   "execution_count": 25,
   "id": "038e5602-f996-42e0-86fa-caad7c91b0b6",
   "metadata": {},
   "outputs": [
    {
     "data": {
      "text/plain": [
       "[42, 5, 35, 31]"
      ]
     },
     "execution_count": 25,
     "metadata": {},
     "output_type": "execute_result"
    }
   ],
   "source": [
    "win_list"
   ]
  },
  {
   "cell_type": "code",
   "execution_count": 20,
   "id": "92b131f5-2544-484a-86d1-e0b5c72744ef",
   "metadata": {},
   "outputs": [
    {
     "data": {
      "text/plain": [
       "227850"
      ]
     },
     "execution_count": 20,
     "metadata": {},
     "output_type": "execute_result"
    }
   ],
   "source": [
    "result = 1\n",
    "for wins in win_list:\n",
    "    result *= wins\n",
    "result"
   ]
  },
  {
   "cell_type": "markdown",
   "id": "0bbf4475-b152-4fc6-b496-208a96b818ef",
   "metadata": {},
   "source": [
    "## Part 2"
   ]
  },
  {
   "cell_type": "code",
   "execution_count": 28,
   "id": "c0c02362-f440-43da-b978-091f0c15a888",
   "metadata": {},
   "outputs": [],
   "source": [
    "def process_data(input_data):\n",
    "    input_data = input_data.split(\"\\n\")\n",
    "    time = int(input_data[0].split(\": \")[1].replace(\" \", \"\"))\n",
    "    distance = int(input_data[1].split(\": \")[1].replace(\" \", \"\"))\n",
    "    return time, distance\n",
    "    "
   ]
  },
  {
   "cell_type": "code",
   "execution_count": 33,
   "id": "5c090882-5023-46ed-a300-c80bcbde95c6",
   "metadata": {},
   "outputs": [],
   "source": [
    "time, distance = process_data(full_data)"
   ]
  },
  {
   "cell_type": "code",
   "execution_count": 34,
   "id": "a7d89c78-a0ed-4142-9405-7f81e8a90388",
   "metadata": {},
   "outputs": [
    {
     "data": {
      "text/plain": [
       "42948149"
      ]
     },
     "execution_count": 34,
     "metadata": {},
     "output_type": "execute_result"
    }
   ],
   "source": [
    "get_wins(time, distance)"
   ]
  },
  {
   "cell_type": "code",
   "execution_count": null,
   "id": "b33af372-5590-473d-bf0c-22d4686fd539",
   "metadata": {},
   "outputs": [],
   "source": []
  }
 ],
 "metadata": {
  "kernelspec": {
   "display_name": "Python 3 (ipykernel)",
   "language": "python",
   "name": "python3"
  },
  "language_info": {
   "codemirror_mode": {
    "name": "ipython",
    "version": 3
   },
   "file_extension": ".py",
   "mimetype": "text/x-python",
   "name": "python",
   "nbconvert_exporter": "python",
   "pygments_lexer": "ipython3",
   "version": "3.7.7"
  }
 },
 "nbformat": 4,
 "nbformat_minor": 5
}
